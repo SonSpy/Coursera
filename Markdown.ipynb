{
 "cells": [
  {
   "cell_type": "markdown",
   "id": "15210636-0c5c-437f-aa04-27f1e43c0d47",
   "metadata": {},
   "source": [
    "# Data Science Tools and Ecosystem"
   ]
  },
  {
   "cell_type": "markdown",
   "id": "1b19945f-c19f-43b5-9549-d1af81129aca",
   "metadata": {},
   "source": [
    "In this notebook, Data Science Tools and Ecosystem are summarized.\n"
   ]
  },
  {
   "cell_type": "markdown",
   "id": "5de56546-5737-4df2-93f0-36b63a2b9a9b",
   "metadata": {},
   "source": [
    "## Some of the popular languages that Data Scientists use are:\n",
    "- Python  \n",
    "- R  \n",
    "- SQL  \n",
    "- Java  \n",
    "- Julia  \n"
   ]
  },
  {
   "cell_type": "markdown",
   "id": "9d64d969-c68d-4df5-aa8f-5842909f1e54",
   "metadata": {},
   "source": [
    "## Some of the commonly used libraries used by Data Scientists include:\n",
    "- Pandas  \n",
    "- NumPy  \n",
    "- Matplotlib  \n",
    "- Scikit-learn  \n",
    "- TensorFlow  \n",
    "- ggplot2  \n"
   ]
  },
  {
   "cell_type": "markdown",
   "id": "d0fa85a9-866a-419d-a174-13dbd0057180",
   "metadata": {},
   "source": [
    "## Data Science Tools\n",
    "\n",
    "| Tool           | Category        |\n",
    "|----------------|-----------------|\n",
    "| Jupyter Notebook | Interactive Development |\n",
    "| RStudio        | IDE              |\n",
    "| Apache Spark   | Big Data Processing |\n",
    "| TensorFlow     | Deep Learning Framework |\n",
    "| VS Code        | Code Editor |\n"
   ]
  },
  {
   "cell_type": "markdown",
   "id": "888efc39-2e68-46bc-b9e4-491436469d3f",
   "metadata": {},
   "source": [
    "### Below are a few examples of evaluating arithmetic expressions in Python.\n"
   ]
  },
  {
   "cell_type": "markdown",
   "id": "55c367d6-33f0-45aa-afe5-f29969637a6d",
   "metadata": {},
   "source": [
    "# This is a simple arithmetic expression to multiply then add integers\n",
    "(3 * 4) + 5\n"
   ]
  },
  {
   "cell_type": "markdown",
   "id": "de92b604-072e-46f4-ae6c-0ad6972086f0",
   "metadata": {},
   "source": [
    "# This will convert 200 minutes to hours by dividing by 60\n",
    "200 / 60\n"
   ]
  },
  {
   "cell_type": "markdown",
   "id": "631db041-0526-408c-978f-27934d312520",
   "metadata": {},
   "source": [
    "## Objectives:\n",
    "- List popular languages for Data Science\n",
    "- List commonly used libraries for Data Science\n",
    "- Create tables using markdown\n",
    "- Perform arithmetic operations using Python\n",
    "- Convert units using code\n"
   ]
  },
  {
   "cell_type": "markdown",
   "id": "a7b684d4-60b5-45f7-a0e9-5e7ebda48088",
   "metadata": {},
   "source": [
    "## Author: Vishal"
   ]
  },
  {
   "cell_type": "code",
   "execution_count": null,
   "id": "226bd0fb-fa1e-4537-a755-c7945b5fc951",
   "metadata": {},
   "outputs": [],
   "source": []
  }
 ],
 "metadata": {
  "kernelspec": {
   "display_name": "Python 3 (ipykernel)",
   "language": "python",
   "name": "python3"
  },
  "language_info": {
   "codemirror_mode": {
    "name": "ipython",
    "version": 3
   },
   "file_extension": ".py",
   "mimetype": "text/x-python",
   "name": "python",
   "nbconvert_exporter": "python",
   "pygments_lexer": "ipython3",
   "version": "3.11.3"
  }
 },
 "nbformat": 4,
 "nbformat_minor": 5
}
